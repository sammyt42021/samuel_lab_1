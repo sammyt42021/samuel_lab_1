{
 "cells": [
  {
   "cell_type": "code",
   "execution_count": null,
   "id": "93721eb2",
   "metadata": {},
   "outputs": [
    {
     "ename": "SyntaxError",
     "evalue": "incomplete input (3618273812.py, line 16)",
     "output_type": "error",
     "traceback": [
      "  \u001b[36mCell\u001b[39m\u001b[36m \u001b[39m\u001b[32mIn[1]\u001b[39m\u001b[32m, line 16\u001b[39m\n\u001b[31m    \u001b[39m\n    ^\n\u001b[31mSyntaxError\u001b[39m\u001b[31m:\u001b[39m incomplete input\n"
     ]
    }
   ],
   "source": [
    "import matplotlib.pyplot as plt # for plotting\n",
    "\n",
    "# Read the DNA data from the complicated file \n",
    "with open(\"dna_raw_complicated.txt\", \"r\") as file:\n",
    "    dna = file.readlines()\n",
    "    print(dna)\n",
    "\n",
    "    # create a dictionary to hold all full DNA sequences\n",
    "    dna_sequences = {}\n",
    "    current_id = \"\"\n",
    "    current_sequence = \"\"\n",
    "\n",
    "    for line in dna: # loop through the DNA lines one by one\n",
    "        line = line.strip() # remove spaces and newlines\n",
    "        if line.startswith(\">\"):\n",
    "    "
   ]
  }
 ],
 "metadata": {
  "kernelspec": {
   "display_name": "samuel_lab_1",
   "language": "python",
   "name": "python3"
  },
  "language_info": {
   "codemirror_mode": {
    "name": "ipython",
    "version": 3
   },
   "file_extension": ".py",
   "mimetype": "text/x-python",
   "name": "python",
   "nbconvert_exporter": "python",
   "pygments_lexer": "ipython3",
   "version": "3.12.11"
  }
 },
 "nbformat": 4,
 "nbformat_minor": 5
}
