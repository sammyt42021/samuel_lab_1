{
 "cells": [
  {
   "cell_type": "code",
   "execution_count": 52,
   "id": "984d3511",
   "metadata": {},
   "outputs": [
    {
     "name": "stdout",
     "output_type": "stream",
     "text": [
      "['>seq1\\n', 'cGTAaccaataaaaaaacaagcttaacctaattc\\n', '>seq2\\n', 'agcttagTTTGGatctggccgggg\\n', '>seq3\\n', 'gcggatttactcCCCCCAAAAANNaggggagagcccagataaatggagtctgtgcgtccaca\\n', '>seq4\\n', 'gcggatttactcaggggagagcccagGGataaatggagtctgtgcgtccaca']\n",
      "seq1: {'a': 17, 't': 7, 'c': 8, 'g': 2}\n",
      "seq2: {'a': 3, 't': 7, 'c': 4, 'g': 10}\n",
      "seq3: {'a': 18, 't': 10, 'c': 16, 'g': 16}\n",
      "seq4: {'a': 13, 't': 10, 'c': 11, 'g': 18}\n"
     ]
    }
   ],
   "source": [
    "import matplotlib.pyplot as plt\n",
    "\n",
    "#opening the file with statement and read all lines\n",
    "with open (\"dna_raw.txt\", \"r\") as file:\n",
    "    dna = file.readlines()\n",
    "    # printing to check what was read\n",
    "    print(dna)\n",
    "\n",
    "# going through the lines in pairs (ID and sequence) \n",
    "    for i in range(0, len(dna), 2):\n",
    "        id_line = dna[i].strip()\n",
    "        seq_line = dna[i + 1].strip()\n",
    "\n",
    "        # removing the \">\" from the ID line and converting all letters to lowercase\n",
    "        seq_id = id_line.replace(\">\", \"\")\n",
    "        sequence = seq_line.lower()\n",
    "\n",
    "        # counting the number of times each appears in the sequence\n",
    "        count = {\"a\": 0, \"t\": 0, \"c\": 0, \"g\": 0}\n",
    "        for ch in sequence:\n",
    "            if ch in count:\n",
    "                count[ch] += 1\n",
    "\n",
    "        # printing the results\n",
    "        print(f\"{seq_id}: {count}\")\n",
    "\n",
    "\n"
   ]
  }
 ],
 "metadata": {
  "kernelspec": {
   "display_name": "samuel_lab_1",
   "language": "python",
   "name": "python3"
  },
  "language_info": {
   "codemirror_mode": {
    "name": "ipython",
    "version": 3
   },
   "file_extension": ".py",
   "mimetype": "text/x-python",
   "name": "python",
   "nbconvert_exporter": "python",
   "pygments_lexer": "ipython3",
   "version": "3.12.11"
  }
 },
 "nbformat": 4,
 "nbformat_minor": 5
}
