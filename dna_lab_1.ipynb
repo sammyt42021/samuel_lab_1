{
 "cells": [
  {
   "cell_type": "markdown",
   "id": "77eb5bcd",
   "metadata": {},
   "source": [
    "# step 1 is to import plot-library"
   ]
  },
  {
   "cell_type": "code",
   "execution_count": 21,
   "id": "984d3511",
   "metadata": {},
   "outputs": [
    {
     "name": "stdout",
     "output_type": "stream",
     "text": [
      "['>seq1\\n', 'cGTAaccaataaaaaaacaagcttaacctaattc\\n', '>seq2\\n', 'agcttagTTTGGatctggccgggg\\n', '>seq3\\n', 'gcggatttactcCCCCCAAAAANNaggggagagcccagataaatggagtctgtgcgtccaca\\n', '>seq4\\n', 'gcggatttactcaggggagagcccagGGataaatggagtctgtgcgtccaca']\n"
     ]
    }
   ],
   "source": [
    "import matplotlib.pyplot as plt\n",
    "\n",
    "with open (\"dna_raw.txt\", \"r\") as file:\n",
    "    dna = file.readlines()\n",
    "    print(dna)\n",
    "    for i in range(0, len(dna), 2):\n",
    "        id_line = dna[i].strip()\n",
    "        seq_line = dna[i +1].strip()\n",
    "        seq_id = id_line.replace(\">\", \"\")\n",
    "        sequence = seq_line.lower()\n",
    "\n"
   ]
  }
 ],
 "metadata": {
  "kernelspec": {
   "display_name": "samuel_lab_1",
   "language": "python",
   "name": "python3"
  },
  "language_info": {
   "codemirror_mode": {
    "name": "ipython",
    "version": 3
   },
   "file_extension": ".py",
   "mimetype": "text/x-python",
   "name": "python",
   "nbconvert_exporter": "python",
   "pygments_lexer": "ipython3",
   "version": "3.12.11"
  }
 },
 "nbformat": 4,
 "nbformat_minor": 5
}
